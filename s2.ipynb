{
 "cells": [
  {
   "cell_type": "code",
   "execution_count": 2,
   "metadata": {
    "collapsed": true
   },
   "outputs": [
    {
     "name": "stdout",
     "output_type": "stream",
     "text": [
      "8\n",
      "8\n",
      "8\n"
     ]
    }
   ],
   "source": [
    "### Example 1: Finding the Maximum Number in a List\n",
    "\n",
    "#### Problem:\n",
    "# Given a list of numbers, find the maximum number in the list.\n",
    "\n",
    "#### Algorithm 1: Iterative Approach\n",
    "# ```python\n",
    "def find_max(numbers):\n",
    "    max_num = numbers[0]\n",
    "    for num in numbers:\n",
    "        if num > max_num:\n",
    "            max_num = num\n",
    "    return max_num\n",
    "\n",
    "\n",
    "numbers = [3, 5, 2, 8, 7]\n",
    "print(find_max(numbers))  # Output: 8\n",
    "\n",
    "\n",
    "# ```\n",
    "\n",
    "#### Algorithm 2: Sorting\n",
    "# ```python\n",
    "def find_max(numbers):\n",
    "    numbers.sort()\n",
    "    return numbers[-1]\n",
    "\n",
    "\n",
    "numbers = [3, 5, 2, 8, 7]\n",
    "print(find_max(numbers))  # Output: 8\n",
    "# ```\n",
    "\n",
    "#### Algorithm 3: Using Built-in Function\n",
    "# ```python\n",
    "numbers = [3, 5, 2, 8, 7]\n",
    "print(max(numbers))  # Output: 8\n",
    "# ```"
   ]
  },
  {
   "cell_type": "code",
   "execution_count": 7,
   "outputs": [
    {
     "name": "stdout",
     "output_type": "stream",
     "text": [
      "True\n",
      "True\n",
      "True\n"
     ]
    }
   ],
   "source": [
    "### Problem: Searching for an Element in a List\n",
    "### Algorithm 1: Linear Search\n",
    "def linear_search(numbers, target):\n",
    "    for num in numbers:\n",
    "        if num == target:\n",
    "            return True\n",
    "    return False\n",
    "\n",
    "\n",
    "numbers = [3, 5, 2, 8, 7]\n",
    "target = 8\n",
    "print(linear_search(numbers, target))  # Output: True\n",
    "\n",
    "\n",
    "# ```\n",
    "\n",
    "### Algorithm 2: Binary Search (List must be sorted)\n",
    "# ```python\n",
    "def binary_search(numbers, target):\n",
    "    low = 0\n",
    "    high = len(numbers) - 1\n",
    "    while low <= high:\n",
    "        mid = (low + high) // 2\n",
    "        if numbers[mid] == target:\n",
    "            return True\n",
    "        elif numbers[mid] < target:\n",
    "            low = mid + 1\n",
    "        else:\n",
    "            high = mid - 1\n",
    "    return False\n",
    "\n",
    "\n",
    "numbers = [2, 3, 5, 7, 8]\n",
    "target = 8\n",
    "print(binary_search(numbers, target))  # Output: True\n",
    "# ```\n",
    "\n",
    "### Algorithm 3: Using Built-in Function\n",
    "# ```python\n",
    "numbers = [3, 5, 2, 8, 7]\n",
    "target = 8\n",
    "print(target in numbers)  # Output: True\n",
    "# ```\n"
   ],
   "metadata": {
    "collapsed": false,
    "pycharm": {
     "name": "#%%\n"
    }
   }
  },
  {
   "cell_type": "code",
   "execution_count": null,
   "outputs": [],
   "source": [
    "### 1. Sorting Algorithms:\n",
    "# - **QuickSort**:\n",
    "#   ```python\n",
    "def quicksort(arr):\n",
    "    if len(arr) <= 1:\n",
    "        return arr\n",
    "    pivot = arr[len(arr) // 2]\n",
    "    left = [x for x in arr if x < pivot]\n",
    "    middle = [x for x in arr if x == pivot]\n",
    "    right = [x for x in arr if x > pivot]\n",
    "    return quicksort(left) + middle + quicksort(right)\n",
    "\n",
    "\n",
    "print(quicksort([3, 6, 8, 10, 1, 2, 1]))\n",
    "# ```\n",
    "# bubble sort -> link faradars\n",
    "# selection sort"
   ],
   "metadata": {
    "collapsed": false,
    "pycharm": {
     "name": "#%%\n"
    }
   }
  },
  {
   "cell_type": "code",
   "execution_count": 8,
   "outputs": [
    {
     "name": "stdout",
     "output_type": "stream",
     "text": [
      "True\n"
     ]
    }
   ],
   "source": [
    "### 2. Search Algorithms:\n",
    "# - **Binary Search**:\n",
    "# ```python\n",
    "print(binary_search([1, 2, 3, 4, 5, 6, 7, 8, 9], 4))\n",
    "# bfs\n",
    "# dfs\n",
    "\n",
    "# ```"
   ],
   "metadata": {
    "collapsed": false,
    "pycharm": {
     "name": "#%%\n"
    }
   }
  },
  {
   "cell_type": "code",
   "execution_count": 10,
   "outputs": [
    {
     "name": "stderr",
     "output_type": "stream",
     "text": [
      "ERROR: pip's dependency resolver does not currently take into account all the packages that are installed. This behaviour is the source of the following dependency conflicts.\n",
      "conda-repo-cli 1.0.41 requires requests_mock, which is not installed.\n",
      "conda-repo-cli 1.0.41 requires clyent==1.2.1, but you have clyent 1.2.2 which is incompatible.\n",
      "conda-repo-cli 1.0.41 requires nbformat==5.4.0, but you have nbformat 5.7.0 which is incompatible.\n",
      "conda-repo-cli 1.0.41 requires requests==2.28.1, but you have requests 2.31.0 which is incompatible.\n"
     ]
    },
    {
     "name": "stdout",
     "output_type": "stream",
     "text": [
      "Requirement already satisfied: pandas in c:\\users\\alias\\anaconda3\\lib\\site-packages (1.5.3)\n",
      "Requirement already satisfied: matplotlib in c:\\users\\alias\\anaconda3\\lib\\site-packages (3.7.0)\n",
      "Collecting yfinance\n",
      "  Downloading yfinance-0.2.31-py2.py3-none-any.whl (65 kB)\n",
      "     -------------------------------------- 65.6/65.6 kB 208.7 kB/s eta 0:00:00\n",
      "Requirement already satisfied: pytz>=2020.1 in c:\\users\\alias\\anaconda3\\lib\\site-packages (from pandas) (2022.7)\n",
      "Requirement already satisfied: python-dateutil>=2.8.1 in c:\\users\\alias\\anaconda3\\lib\\site-packages (from pandas) (2.8.2)\n",
      "Requirement already satisfied: numpy>=1.21.0 in c:\\users\\alias\\anaconda3\\lib\\site-packages (from pandas) (1.23.5)\n",
      "Requirement already satisfied: contourpy>=1.0.1 in c:\\users\\alias\\anaconda3\\lib\\site-packages (from matplotlib) (1.0.5)\n",
      "Requirement already satisfied: packaging>=20.0 in c:\\users\\alias\\anaconda3\\lib\\site-packages (from matplotlib) (22.0)\n",
      "Requirement already satisfied: pillow>=6.2.0 in c:\\users\\alias\\anaconda3\\lib\\site-packages (from matplotlib) (9.4.0)\n",
      "Requirement already satisfied: cycler>=0.10 in c:\\users\\alias\\anaconda3\\lib\\site-packages (from matplotlib) (0.11.0)\n",
      "Requirement already satisfied: kiwisolver>=1.0.1 in c:\\users\\alias\\anaconda3\\lib\\site-packages (from matplotlib) (1.4.4)\n",
      "Requirement already satisfied: fonttools>=4.22.0 in c:\\users\\alias\\anaconda3\\lib\\site-packages (from matplotlib) (4.42.0)\n",
      "Requirement already satisfied: pyparsing>=2.3.1 in c:\\users\\alias\\anaconda3\\lib\\site-packages (from matplotlib) (3.0.9)\n",
      "Collecting html5lib>=1.1\n",
      "  Downloading html5lib-1.1-py2.py3-none-any.whl (112 kB)\n",
      "     ------------------------------------ 112.2/112.2 kB 592.6 kB/s eta 0:00:00\n",
      "Requirement already satisfied: lxml>=4.9.1 in c:\\users\\alias\\anaconda3\\lib\\site-packages (from yfinance) (4.9.1)\n",
      "Collecting frozendict>=2.3.4\n",
      "  Downloading frozendict-2.3.8-cp310-cp310-win_amd64.whl (35 kB)\n",
      "Collecting requests>=2.31\n",
      "  Using cached requests-2.31.0-py3-none-any.whl (62 kB)\n",
      "Collecting peewee>=3.16.2\n",
      "  Downloading peewee-3.17.0.tar.gz (2.9 MB)\n",
      "     ---------------------------------------- 2.9/2.9 MB 637.3 kB/s eta 0:00:00\n",
      "  Installing build dependencies: started\n",
      "  Installing build dependencies: finished with status 'done'\n",
      "  Getting requirements to build wheel: started\n",
      "  Getting requirements to build wheel: finished with status 'done'\n",
      "  Preparing metadata (pyproject.toml): started\n",
      "  Preparing metadata (pyproject.toml): finished with status 'done'\n",
      "Requirement already satisfied: beautifulsoup4>=4.11.1 in c:\\users\\alias\\anaconda3\\lib\\site-packages (from yfinance) (4.11.1)\n",
      "Requirement already satisfied: appdirs>=1.4.4 in c:\\users\\alias\\anaconda3\\lib\\site-packages (from yfinance) (1.4.4)\n",
      "Collecting multitasking>=0.0.7\n",
      "  Downloading multitasking-0.0.11-py3-none-any.whl (8.5 kB)\n",
      "Requirement already satisfied: soupsieve>1.2 in c:\\users\\alias\\anaconda3\\lib\\site-packages (from beautifulsoup4>=4.11.1->yfinance) (2.3.2.post1)\n",
      "Requirement already satisfied: six>=1.9 in c:\\users\\alias\\anaconda3\\lib\\site-packages (from html5lib>=1.1->yfinance) (1.16.0)\n",
      "Requirement already satisfied: webencodings in c:\\users\\alias\\anaconda3\\lib\\site-packages (from html5lib>=1.1->yfinance) (0.5.1)\n",
      "Requirement already satisfied: urllib3<3,>=1.21.1 in c:\\users\\alias\\anaconda3\\lib\\site-packages (from requests>=2.31->yfinance) (1.26.14)\n",
      "Requirement already satisfied: idna<4,>=2.5 in c:\\users\\alias\\anaconda3\\lib\\site-packages (from requests>=2.31->yfinance) (3.4)\n",
      "Requirement already satisfied: charset-normalizer<4,>=2 in c:\\users\\alias\\anaconda3\\lib\\site-packages (from requests>=2.31->yfinance) (2.0.4)\n",
      "Requirement already satisfied: certifi>=2017.4.17 in c:\\users\\alias\\anaconda3\\lib\\site-packages (from requests>=2.31->yfinance) (2022.12.7)\n",
      "Building wheels for collected packages: peewee\n",
      "  Building wheel for peewee (pyproject.toml): started\n",
      "  Building wheel for peewee (pyproject.toml): finished with status 'done'\n",
      "  Created wheel for peewee: filename=peewee-3.17.0-py3-none-any.whl size=135766 sha256=32bb6070ede7a2984af9b82ed353a1736c3843658684c854b3ddbb04111d4daa\n",
      "  Stored in directory: c:\\users\\alias\\appdata\\local\\pip\\cache\\wheels\\e2\\b9\\da\\716514851b65304b2d24f2a161398b9470da589b08a5a586c8\n",
      "Successfully built peewee\n",
      "Installing collected packages: peewee, multitasking, requests, html5lib, frozendict, yfinance\n",
      "  Attempting uninstall: requests\n",
      "    Found existing installation: requests 2.28.1\n",
      "    Uninstalling requests-2.28.1:\n",
      "      Successfully uninstalled requests-2.28.1\n",
      "Successfully installed frozendict-2.3.8 html5lib-1.1 multitasking-0.0.11 peewee-3.17.0 requests-2.31.0 yfinance-0.2.31\n",
      "[*********************100%%**********************]  1 of 1 completed\n"
     ]
    }
   ],
   "source": [
    "### 3. Machine Learning:\n",
    "\n",
    "\n",
    "# pip install pandas matplotlib yfinance\n",
    "\n",
    "import yfinance as yf\n",
    "import pandas as pd\n",
    "import matplotlib.pyplot as plt\n",
    "\n",
    "# دریافت داده‌های بورسی برای یک سهام خاص (مثلاً Apple) از تاریخ شروع تا تاریخ پایان\n",
    "start_date = \"2020-01-01\"\n",
    "end_date = \"2021-01-01\"\n",
    "ticker_symbol = \"AAPL\"\n",
    "data = yf.download(ticker_symbol, start=start_date, end=end_date)\n",
    "\n",
    "# محاسبه میانگین متحرک ۵ و ۲۰ روزه\n",
    "plt.figure(figsize=(12, 6))\n",
    "data['Close'].plot(label='Close Price')\n",
    "for l in range(30):\n",
    "    temp = data['Close'].rolling(window=l).mean()\n",
    "    temp.plot(label=str(l) + ' Day Avg')\n",
    "\n",
    "\n",
    "# data['SMA5'] = data['Close'].rolling(window=5).mean()\n",
    "# data['SMA20'] = data['Close'].rolling(window=20).mean()"
   ],
   "metadata": {
    "collapsed": false,
    "pycharm": {
     "name": "#%%\n"
    }
   }
  },
  {
   "cell_type": "code",
   "execution_count": null,
   "outputs": [],
   "source": [
    "# نمایش نمودار\n",
    "plt.figure(figsize=(12, 6))\n",
    "data['Close'].plot(label='Close Price')\n",
    "data['SMA5'].plot(label='5 Day Avg')\n",
    "data['SMA20'].plot(label='20 Day Avg')\n",
    "plt.legend()\n",
    "plt.title(f\"Stock Price of {ticker_symbol} from {start_date} to {end_date}\")\n",
    "plt.show()\n",
    "# plt.savefig('test.png')\n",
    "\n"
   ],
   "metadata": {
    "collapsed": false,
    "pycharm": {
     "name": "#%%\n"
    }
   }
  },
  {
   "cell_type": "code",
   "execution_count": null,
   "outputs": [],
   "source": [
    "- ** Linear\n",
    "Regression ** (Using `scikit-learn`):\n",
    "```python\n",
    "from sklearn.linear_model import LinearRegression\n",
    "import numpy as np\n",
    "\n",
    "X = np.array([[1, 1], [1, 2], [2, 2], [2, 3]])\n",
    "y = np.dot(X, np.array([1, 2])) + 3\n",
    "reg = LinearRegression().fit(X, y)\n",
    "print(reg.score(X, y))\n",
    "print(reg.coef_)\n",
    "```\n",
    "\n",
    "### 4. Deep Learning:\n",
    "- ** Convolutional\n",
    "Neural\n",
    "Networks(CNNs) ** (Using `TensorFlow` and `Keras`):\n",
    "```python\n",
    "import tensorflow as tf\n",
    "from tensorflow.keras import layers, models\n",
    "\n",
    "model = models.Sequential()\n",
    "model.add(layers.Conv2D(32, (3, 3), activation='relu', input_shape=(64, 64, 3)))\n",
    "model.add(layers.MaxPooling2D((2, 2)))\n",
    "model.add(layers.Conv2D(64, (3, 3), activation='relu'))\n",
    "model.add(layers.MaxPooling2D((2, 2)))\n",
    "model.add(layers.Conv2D(64, (3, 3), activation='relu'))\n",
    "model.summary()\n",
    "```\n",
    "\n",
    "### 5. Graph Algorithms:\n",
    "- ** Dijkstra’s\n",
    "Algorithm **:\n",
    "```python\n",
    "import heapq\n",
    "\n",
    "\n",
    "def dijkstra(graph, start):\n",
    "    distances = {vertex: float('infinity') for vertex in graph}\n",
    "    distances[start] = 0\n",
    "    priority_queue = [(0, start)]\n",
    "\n",
    "    while priority_queue:\n",
    "        current_distance, current_vertex = heapq.heappop(priority_queue)\n",
    "\n",
    "        if current_distance > distances[current_vertex]:\n",
    "            continue\n",
    "\n",
    "        for neighbor, weight in graph[current_vertex].items():\n",
    "            distance = current_distance + weight\n",
    "\n",
    "            if distance < distances[neighbor]:\n",
    "                distances[neighbor] = distance\n",
    "                heapq.heappush(priority_queue, (distance, neighbor))\n",
    "\n",
    "    return distances\n",
    "\n",
    "\n",
    "graph = {\n",
    "    'A': {'B': 1, 'C': 4},\n",
    "    'B': {'A': 1, 'C': 2, 'D': 5},\n",
    "    'C': {'A': 4, 'B': 2, 'D': 1},\n",
    "    'D': {'B': 5, 'C': 1}\n",
    "}\n",
    "\n",
    "print(dijkstra(graph, 'A'))\n",
    "```\n",
    "\n",
    "### 6. Natural Language Processing (NLP):\n",
    "- ** Tokenization **:\n",
    "```python\n",
    "from nltk.tokenize import word_tokenize\n",
    "import nltk\n",
    "\n",
    "nltk.download('punkt')\n",
    "\n",
    "text = \"Hello, how are you?\"\n",
    "tokens = word_tokenize(text)\n",
    "print(tokens)\n",
    "```"
   ],
   "metadata": {
    "collapsed": false,
    "pycharm": {
     "name": "#%%\n"
    }
   }
  },
  {
   "cell_type": "code",
   "execution_count": null,
   "outputs": [],
   "source": [
    "### 7. Computer Vision:\n",
    "# - ** Facial\n",
    "# Recognition ** (Using `dlib` and `face_recognition`):\n",
    "# ```python\n",
    "import face_recognition\n",
    "\n",
    "image_of_person = face_recognition.load_image_file(\"person.jpg\")\n",
    "person_face_encoding = face_recognition.face_encodings(image_of_person)[0]\n",
    "\n",
    "unknown_image = face_recognition.load_image_file(\"unknown.jpg\")\n",
    "unknown_face_encoding = face_recognition.face_encodings(unknown_image)[0]\n",
    "\n",
    "results = face_recognition.compare_faces([person_face_encoding], unknown_face_encoding)\n",
    "\n",
    "if results[0]:\n",
    "    print(\"This is the same person.\")\n",
    "else:\n",
    "    print(\"This is not the same person.\")\n",
    "# ```"
   ],
   "metadata": {
    "collapsed": false,
    "pycharm": {
     "name": "#%%\n"
    }
   }
  },
  {
   "cell_type": "code",
   "execution_count": null,
   "outputs": [],
   "source": [
    "### 8. Cryptography:\n",
    "- ** RSA\n",
    "Algorithm **:\n",
    "```python\n",
    "from Crypto.PublicKey import RSA\n",
    "\n",
    "key = RSA.generate(2048)\n",
    "private_key = key.export_key()\n",
    "file_out = open(\"private.pem\", \"wb\")\n",
    "file_out.write(private_key)\n",
    "\n",
    "public_key = key.publickey().export_key()\n",
    "file_out = open(\"receiver.pem\", \"wb\")\n",
    "file_out.write(public_key)\n",
    "```\n",
    "\n",
    "### 9. Optimization:\n",
    "- ** Genetic\n",
    "Algorithm **:\n",
    "```python\n",
    "import random\n",
    "\n",
    "\n",
    "def genetic_algorithm():\n",
    "    generation = 1\n",
    "    population = [''.join(random.choice('01') for _ in range(8)) for _ in range(10)]\n",
    "\n",
    "    while True:\n",
    "        print(f\"Generation {generation}: {population}\")\n",
    "        if '11111111' in population:\n",
    "            print(\"Solution found!\")\n",
    "            break\n",
    "\n",
    "        population = sorted(population, key=lambda x: x.count('1'), reverse=True)\n",
    "        next_generation = population[:2]\n",
    "\n",
    "        while len(next_generation) < 10:\n",
    "            parent1, parent2 = random.sample(population[:6], 2)\n",
    "            crossover_point = random.randint(1, 7)\n",
    "            child1 = parent1[:crossover_point] + parent2[crossover_point:]\n",
    "            child2 = parent2[:crossover_point] + parent1[crossover_point:]\n",
    "            next_generation.extend([child1, child2])\n",
    "\n",
    "        population = next_generation\n",
    "        generation += 1\n",
    "\n",
    "\n",
    "genetic_algorithm()\n",
    "```\n",
    "\n",
    "### 10. Recommender Systems:\n",
    "- ** Collaborative\n",
    "Filtering **:\n",
    "```python\n",
    "import numpy as np\n",
    "from sklearn.metrics.pairwise import cosine_similarity\n",
    "\n",
    "user_movie_ratings = np.array([\n",
    "    [5, 4, 1, 4, 3],\n",
    "    [3, 3, 3, 2, 1],\n",
    "    [4, 5, 2, 5, 4],\n",
    "    [2, 1, 5, 3, 2]\n",
    "])\n",
    "\n",
    "similarity_matrix = cosine_similarity(user_movie_ratings)\n",
    "print(similarity_matrix)\n",
    "```\n",
    "\n",
    "### 11. Anomaly Detection:\n",
    "- ** Isolation\n",
    "Forest **:\n",
    "```python\n",
    "from sklearn.ensemble import IsolationForest\n",
    "import numpy as np\n",
    "\n",
    "rng = np.random.RandomState(42)\n",
    "X = 0.3 * rng.randn(100, 2)\n",
    "X_train = np"
   ],
   "metadata": {
    "collapsed": false,
    "pycharm": {
     "name": "#%%\n"
    }
   }
  }
 ],
 "metadata": {
  "kernelspec": {
   "display_name": "Python 3",
   "language": "python",
   "name": "python3"
  },
  "language_info": {
   "codemirror_mode": {
    "name": "ipython",
    "version": 2
   },
   "file_extension": ".py",
   "mimetype": "text/x-python",
   "name": "python",
   "nbconvert_exporter": "python",
   "pygments_lexer": "ipython2",
   "version": "2.7.6"
  }
 },
 "nbformat": 4,
 "nbformat_minor": 0
}