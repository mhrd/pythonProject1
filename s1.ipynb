{
 "cells": [
  {
   "cell_type": "code",
   "execution_count": 181,
   "metadata": {
    "collapsed": true
   },
   "outputs": [
    {
     "name": "stdout",
     "output_type": "stream",
     "text": [
      "hi\n",
      "---begin\n",
      "---end\n"
     ]
    }
   ],
   "source": [
    "print('hi')\n",
    "print('---begin')\n",
    "print('---end')"
   ]
  },
  {
   "cell_type": "code",
   "execution_count": 182,
   "outputs": [],
   "source": [
    "# write calculator program"
   ],
   "metadata": {
    "collapsed": false,
    "pycharm": {
     "name": "#%%\n"
    }
   }
  },
  {
   "cell_type": "code",
   "execution_count": 183,
   "outputs": [
    {
     "name": "stdout",
     "output_type": "stream",
     "text": [
      "name 'y' is not defined\n"
     ]
    }
   ],
   "source": [
    "try:\n",
    "    x = 10\n",
    "    print(y)\n",
    "except NameError as e:\n",
    "    print(e)\n"
   ],
   "metadata": {
    "collapsed": false,
    "pycharm": {
     "name": "#%%\n"
    }
   }
  },
  {
   "cell_type": "code",
   "execution_count": 184,
   "outputs": [
    {
     "name": "stdout",
     "output_type": "stream",
     "text": [
      "unsupported operand type(s) for /: 'int' and 'str'\n",
      "can only concatenate str (not \"int\") to str\n"
     ]
    }
   ],
   "source": [
    "try:\n",
    "    num = \"10\"\n",
    "    result = 10 / num\n",
    "except TypeError as e:\n",
    "    print(e)\n",
    "\n",
    "try:\n",
    "    print('number:' + 5)\n",
    "except TypeError as e:\n",
    "    print(e)"
   ],
   "metadata": {
    "collapsed": false,
    "pycharm": {
     "name": "#%%\n"
    }
   }
  },
  {
   "cell_type": "code",
   "execution_count": 185,
   "outputs": [
    {
     "name": "stdout",
     "output_type": "stream",
     "text": [
      "invalid literal for int() with base 10: 'ten'\n"
     ]
    }
   ],
   "source": [
    "try:\n",
    "    num = int(\"ten\")\n",
    "except ValueError as e:\n",
    "    print(e)\n"
   ],
   "metadata": {
    "collapsed": false,
    "pycharm": {
     "name": "#%%\n"
    }
   }
  },
  {
   "cell_type": "code",
   "execution_count": 186,
   "outputs": [
    {
     "name": "stdout",
     "output_type": "stream",
     "text": [
      "division by zero\n"
     ]
    }
   ],
   "source": [
    "try:\n",
    "    num = 0\n",
    "    result = 10 / num\n",
    "except ZeroDivisionError as e:\n",
    "    print(e)"
   ],
   "metadata": {
    "collapsed": false,
    "pycharm": {
     "name": "#%%\n"
    }
   }
  },
  {
   "cell_type": "code",
   "execution_count": 204,
   "outputs": [
    {
     "name": "stdout",
     "output_type": "stream",
     "text": [
      "[Errno 2] No such file or directory: 'nonexistent_file.txt'\n"
     ]
    }
   ],
   "source": [
    "try:\n",
    "    # with open(\"existing_file.txt\", \"r\") as file:\n",
    "    with open(\"nonexistent_file.txt\", \"r\") as file:\n",
    "        content = file.read()\n",
    "        print(content)\n",
    "except FileNotFoundError as e:\n",
    "    print(e)\n"
   ],
   "metadata": {
    "collapsed": false,
    "pycharm": {
     "name": "#%%\n"
    }
   }
  },
  {
   "cell_type": "code",
   "execution_count": 188,
   "outputs": [
    {
     "name": "stdout",
     "output_type": "stream",
     "text": [
      "---begin\n",
      "list index out of range\n",
      "---end\n"
     ]
    }
   ],
   "source": [
    "print('---begin')\n",
    "try:\n",
    "    my_list = [1, 2, 3]\n",
    "    print(my_list[7])\n",
    "except IndexError as e:\n",
    "    print(e)\n",
    "print('---end')"
   ],
   "metadata": {
    "collapsed": false,
    "pycharm": {
     "name": "#%%\n"
    }
   }
  },
  {
   "cell_type": "code",
   "execution_count": 189,
   "outputs": [
    {
     "name": "stdout",
     "output_type": "stream",
     "text": [
      "'address'\n"
     ]
    }
   ],
   "source": [
    "try:\n",
    "    my_dict = {\"name\": \"Alice\", \"age\": 30}\n",
    "    print(my_dict[\"address\"])\n",
    "except KeyError as e:\n",
    "    print(e)\n"
   ],
   "metadata": {
    "collapsed": false,
    "pycharm": {
     "name": "#%%\n"
    }
   }
  },
  {
   "cell_type": "code",
   "execution_count": 190,
   "outputs": [
    {
     "name": "stdout",
     "output_type": "stream",
     "text": [
      "'MyClass' object has no attribute 'size'\n"
     ]
    }
   ],
   "source": [
    "try:\n",
    "    class MyClass:\n",
    "        def __init__(self):\n",
    "            self.value = 42\n",
    "\n",
    "\n",
    "    obj = MyClass()\n",
    "    print(obj.size)\n",
    "except AttributeError as e:\n",
    "    print(e)\n"
   ],
   "metadata": {
    "collapsed": false,
    "pycharm": {
     "name": "#%%\n"
    }
   }
  },
  {
   "cell_type": "code",
   "execution_count": 191,
   "outputs": [
    {
     "name": "stdout",
     "output_type": "stream",
     "text": [
      "نتیجه:  10.0\n"
     ]
    }
   ],
   "source": [
    "try:\n",
    "    num = int(input(\"لطفاً یک عدد وارد کنید: \"))\n",
    "    result = 10 / num\n",
    "    print(\"نتیجه: \", result)\n",
    "except ZeroDivisionError:\n",
    "    print(\"خطا: تقسیم بر صفر ناممکن است.\")\n",
    "except ValueError:\n",
    "    print(\"خطا: ورودی باید یک عدد صحیح باشد.\")\n",
    "except Exception as e:\n",
    "    print(\"خطای ناشناخته: \", e)\n"
   ],
   "metadata": {
    "collapsed": false,
    "pycharm": {
     "name": "#%%\n"
    }
   }
  },
  {
   "cell_type": "code",
   "execution_count": 192,
   "outputs": [],
   "source": [
    "def calculator(arg1, arg2, operation):\n",
    "    try:\n",
    "        num1 = float(arg1)\n",
    "        num2 = float(arg2)\n",
    "        if operation == \"+\":\n",
    "            result = num1 + num2\n",
    "        elif operation == \"-\":\n",
    "            result = num1 - num2\n",
    "        elif operation == \"*\":\n",
    "            result = num1 * num2\n",
    "        elif operation == \"/\":\n",
    "            result = num1 / num2\n",
    "        else:\n",
    "            return \"عملیات نامعتبر: \" + operation\n",
    "\n",
    "        return result\n",
    "    except ZeroDivisionError as e:\n",
    "        return \"خطا: تقسیم بر صفر ناممکن است.\"\n",
    "    except ValueError as e:\n",
    "        return \"خطا: مقادیر ورودی مناسب نیست\"\n",
    "    except TypeError as e:\n",
    "        return \"خطا: نوع داده‌ای ورودی‌ها نامعتبر است.\"\n",
    "    except Exception as e:\n",
    "        return \"خطای ناشناخته: \" + str(e)"
   ],
   "metadata": {
    "collapsed": false,
    "pycharm": {
     "name": "#%%\n"
    }
   }
  },
  {
   "cell_type": "code",
   "execution_count": 193,
   "outputs": [
    {
     "name": "stdout",
     "output_type": "stream",
     "text": [
      "نتیجه:  خطا: مقادیر ورودی مناسب نیست\n"
     ]
    }
   ],
   "source": [
    "num1 = input(\"عدد اول: \")\n",
    "num2 = input(\"عدد دوم: \")\n",
    "operation = input(\"عملیات (+, -, *, /): \")\n",
    "\n",
    "result = calculator(num1, num2, operation)\n",
    "print(\"نتیجه: \", result)"
   ],
   "metadata": {
    "collapsed": false,
    "pycharm": {
     "name": "#%%\n"
    }
   }
  },
  {
   "cell_type": "code",
   "execution_count": 194,
   "outputs": [
    {
     "data": {
      "text/plain": "[0, 5, 10, 15, 20]"
     },
     "execution_count": 194,
     "metadata": {},
     "output_type": "execute_result"
    }
   ],
   "source": [
    "def numbers(n):\n",
    "    for i in range(n):\n",
    "        if i % 5 == 0:\n",
    "            # print(i)\n",
    "            # return i\n",
    "            yield i\n",
    "\n",
    "l = numbers(21)\n",
    "list(l)\n",
    "# l\n"
   ],
   "metadata": {
    "collapsed": false,
    "pycharm": {
     "name": "#%%\n"
    }
   }
  },
  {
   "cell_type": "code",
   "execution_count": 195,
   "outputs": [
    {
     "name": "stdout",
     "output_type": "stream",
     "text": [
      "خطا:  تقسیم بر صفر ناممکن است.\n"
     ]
    }
   ],
   "source": [
    "def divide(x, y):\n",
    "    if y == 0:\n",
    "        raise ZeroDivisionError(\"تقسیم بر صفر ناممکن است.\")\n",
    "        # raise TypeError(\"تقسیم بر صفر ناممکن است.\")\n",
    "    return x / y\n",
    "\n",
    "\n",
    "try:\n",
    "    re = divide(10, 0)\n",
    "except ZeroDivisionError as e:\n",
    "    print(\"خطا: \",e)\n",
    "    # print(re)"
   ],
   "metadata": {
    "collapsed": false,
    "pycharm": {
     "name": "#%%\n"
    }
   }
  },
  {
   "cell_type": "code",
   "execution_count": 196,
   "outputs": [],
   "source": [
    "# write calculator with raise"
   ],
   "metadata": {
    "collapsed": false,
    "pycharm": {
     "name": "#%%\n"
    }
   }
  },
  {
   "cell_type": "code",
   "execution_count": 197,
   "outputs": [
    {
     "name": "stdout",
     "output_type": "stream",
     "text": [
      "خطا:  مشکل منطق کسب و کار\n"
     ]
    }
   ],
   "source": [
    "class CustomError(Exception):\n",
    "    pass\n",
    "\n",
    "def custom(a):\n",
    "    if a == 10:\n",
    "        raise CustomError(\"مشکل منطق کسب و کار\")\n",
    "        # raise TypeError(\"تقسیم بر صفر ناممکن است.\")\n",
    "    return a\n",
    "\n",
    "\n",
    "try:\n",
    "    # out=custom(4)\n",
    "    out=custom(10)\n",
    "    print(out)\n",
    "except CustomError as e:\n",
    "    print(\"خطا: \",e)\n",
    "    # print(re)"
   ],
   "metadata": {
    "collapsed": false,
    "pycharm": {
     "name": "#%%\n"
    }
   }
  },
  {
   "cell_type": "code",
   "execution_count": 197,
   "outputs": [],
   "source": [],
   "metadata": {
    "collapsed": false,
    "pycharm": {
     "name": "#%%\n"
    }
   }
  },
  {
   "cell_type": "code",
   "execution_count": 197,
   "outputs": [],
   "source": [],
   "metadata": {
    "collapsed": false,
    "pycharm": {
     "name": "#%%\n"
    }
   }
  }
 ],
 "metadata": {
  "kernelspec": {
   "name": "pycharm-b4f87f36",
   "language": "python",
   "display_name": "PyCharm (pythonProject)"
  },
  "language_info": {
   "codemirror_mode": {
    "name": "ipython",
    "version": 2
   },
   "file_extension": ".py",
   "mimetype": "text/x-python",
   "name": "python",
   "nbconvert_exporter": "python",
   "pygments_lexer": "ipython2",
   "version": "2.7.6"
  }
 },
 "nbformat": 4,
 "nbformat_minor": 0
}