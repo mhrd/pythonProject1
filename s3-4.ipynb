{
 "cells": [
  {
   "cell_type": "code",
   "execution_count": 1,
   "metadata": {
    "collapsed": true
   },
   "outputs": [],
   "source": [
    "# pip install mysql-connector-python\n",
    "import mysql.connector"
   ]
  },
  {
   "cell_type": "code",
   "execution_count": 12,
   "outputs": [],
   "source": [
    "# Connect to MySQL server\n",
    "connection = mysql.connector.connect(\n",
    "    host='localhost',\n",
    "    user='test',\n",
    "    password='Password',\n",
    "    port=3306\n",
    ")\n",
    "cursor = connection.cursor()"
   ],
   "metadata": {
    "collapsed": false,
    "pycharm": {
     "name": "#%%\n"
    }
   }
  },
  {
   "cell_type": "code",
   "execution_count": 21,
   "outputs": [
    {
     "ename": "ProgrammingError",
     "evalue": "2055: Cursor is not connected",
     "output_type": "error",
     "traceback": [
      "\u001B[1;31m---------------------------------------------------------------------------\u001B[0m",
      "\u001B[1;31mProgrammingError\u001B[0m                          Traceback (most recent call last)",
      "File \u001B[1;32m~\\anaconda3\\lib\\site-packages\\mysql\\connector\\cursor_cext.py:300\u001B[0m, in \u001B[0;36mCMySQLCursor.execute\u001B[1;34m(self, operation, params, multi)\u001B[0m\n\u001B[0;32m    299\u001B[0m     \u001B[38;5;28;01mif\u001B[39;00m \u001B[38;5;129;01mnot\u001B[39;00m \u001B[38;5;28mself\u001B[39m\u001B[38;5;241m.\u001B[39m_cnx \u001B[38;5;129;01mor\u001B[39;00m \u001B[38;5;28mself\u001B[39m\u001B[38;5;241m.\u001B[39m_cnx\u001B[38;5;241m.\u001B[39mis_closed():\n\u001B[1;32m--> 300\u001B[0m         \u001B[38;5;28;01mraise\u001B[39;00m ProgrammingError\n\u001B[0;32m    301\u001B[0m \u001B[38;5;28;01mexcept\u001B[39;00m (ProgrammingError, \u001B[38;5;167;01mReferenceError\u001B[39;00m) \u001B[38;5;28;01mas\u001B[39;00m err:\n",
      "\u001B[1;31mProgrammingError\u001B[0m: Unknown error",
      "\nThe above exception was the direct cause of the following exception:\n",
      "\u001B[1;31mProgrammingError\u001B[0m                          Traceback (most recent call last)",
      "Cell \u001B[1;32mIn[21], line 2\u001B[0m\n\u001B[0;32m      1\u001B[0m \u001B[38;5;66;03m# Create a new database\u001B[39;00m\n\u001B[1;32m----> 2\u001B[0m \u001B[43mcursor\u001B[49m\u001B[38;5;241;43m.\u001B[39;49m\u001B[43mexecute\u001B[49m\u001B[43m(\u001B[49m\u001B[38;5;124;43m\"\u001B[39;49m\u001B[38;5;124;43mCREATE DATABASE IF NOT EXISTS example_database\u001B[39;49m\u001B[38;5;124;43m\"\u001B[39;49m\u001B[43m)\u001B[49m\n\u001B[0;32m      3\u001B[0m \u001B[38;5;28mprint\u001B[39m(\u001B[38;5;124m\"\u001B[39m\u001B[38;5;124mDatabase created or already exists.\u001B[39m\u001B[38;5;124m\"\u001B[39m)\n",
      "File \u001B[1;32m~\\anaconda3\\lib\\site-packages\\mysql\\connector\\cursor_cext.py:302\u001B[0m, in \u001B[0;36mCMySQLCursor.execute\u001B[1;34m(self, operation, params, multi)\u001B[0m\n\u001B[0;32m    300\u001B[0m         \u001B[38;5;28;01mraise\u001B[39;00m ProgrammingError\n\u001B[0;32m    301\u001B[0m \u001B[38;5;28;01mexcept\u001B[39;00m (ProgrammingError, \u001B[38;5;167;01mReferenceError\u001B[39;00m) \u001B[38;5;28;01mas\u001B[39;00m err:\n\u001B[1;32m--> 302\u001B[0m     \u001B[38;5;28;01mraise\u001B[39;00m ProgrammingError(\u001B[38;5;124m\"\u001B[39m\u001B[38;5;124mCursor is not connected\u001B[39m\u001B[38;5;124m\"\u001B[39m, \u001B[38;5;241m2055\u001B[39m) \u001B[38;5;28;01mfrom\u001B[39;00m \u001B[38;5;21;01merr\u001B[39;00m\n\u001B[0;32m    303\u001B[0m \u001B[38;5;28mself\u001B[39m\u001B[38;5;241m.\u001B[39m_cnx\u001B[38;5;241m.\u001B[39mhandle_unread_result()\n\u001B[0;32m    305\u001B[0m stmt \u001B[38;5;241m=\u001B[39m \u001B[38;5;124m\"\u001B[39m\u001B[38;5;124m\"\u001B[39m\n",
      "\u001B[1;31mProgrammingError\u001B[0m: 2055: Cursor is not connected"
     ]
    }
   ],
   "source": [
    "# Create a new database\n",
    "cursor.execute(\"CREATE DATABASE IF NOT EXISTS example_database\")\n",
    "print(\"Database created or already exists.\")"
   ],
   "metadata": {
    "collapsed": false,
    "pycharm": {
     "name": "#%%\n"
    }
   }
  },
  {
   "cell_type": "code",
   "execution_count": 14,
   "outputs": [],
   "source": [
    "# Switch to the new database\n",
    "cursor.execute(\"USE example_database\")"
   ],
   "metadata": {
    "collapsed": false,
    "pycharm": {
     "name": "#%%\n"
    }
   }
  },
  {
   "cell_type": "code",
   "execution_count": 17,
   "outputs": [],
   "source": [
    "# Create a new table\n",
    "cursor.execute(\"CREATE TABLE IF NOT EXISTS students (id INT AUTO_INCREMENT PRIMARY KEY,name VARCHAR(255),age INT)\")\n",
    "print(\"Table created or already exists.\")"
   ],
   "metadata": {
    "collapsed": false,
    "pycharm": {
     "name": "#%%\n"
    }
   }
  },
  {
   "cell_type": "code",
   "execution_count": 18,
   "outputs": [
    {
     "name": "stdout",
     "output_type": "stream",
     "text": [
      "Records inserted.\n",
      "Records inserted.\n",
      "Records inserted.\n"
     ]
    }
   ],
   "source": [
    "# Insert records\n",
    "insert_query = \"INSERT INTO students (name, age) VALUES ('Alice', 20)\"\n",
    "cursor.execute(insert_query)\n",
    "connection.commit()\n",
    "print(\"Records inserted.\")\n",
    "\n",
    "insert_query = \"INSERT INTO students (name, age) VALUES ('Bob',22)\"\n",
    "cursor.execute(insert_query)\n",
    "connection.commit()\n",
    "print(\"Records inserted.\")\n",
    "\n",
    "insert_query = \"INSERT INTO students (name, age) VALUES ('Ali',23)\"\n",
    "cursor.execute(insert_query)\n",
    "connection.commit()\n",
    "print(\"Records inserted.\")"
   ],
   "metadata": {
    "collapsed": false,
    "pycharm": {
     "name": "#%%\n"
    }
   }
  },
  {
   "cell_type": "code",
   "execution_count": 19,
   "outputs": [
    {
     "name": "stdout",
     "output_type": "stream",
     "text": [
      "Selected records:\n",
      "(1, 'Alice', 20)\n",
      "(2, 'Bob', 22)\n",
      "(3, 'Ali', 23)\n"
     ]
    }
   ],
   "source": [
    "# Select records\n",
    "select_query = \"SELECT * FROM students\"\n",
    "cursor.execute(select_query)\n",
    "records = cursor.fetchall()\n",
    "print(\"Selected records:\")\n",
    "for record in records:\n",
    "    print(record)"
   ],
   "metadata": {
    "collapsed": false,
    "pycharm": {
     "name": "#%%\n"
    }
   }
  },
  {
   "cell_type": "code",
   "execution_count": null,
   "outputs": [],
   "source": [
    "# Update a record\n",
    "update_query = \"UPDATE students SET age = %s WHERE name = %s\"\n",
    "new_age = 23\n",
    "student_name_to_update = \"Alice\"\n",
    "cursor.execute(update_query, (new_age, student_name_to_update))\n",
    "connection.commit()\n",
    "print(f\"Record for {student_name_to_update} updated.\")\n",
    "\n",
    "# Select records after update\n",
    "cursor.execute(select_query)\n",
    "records_after_update = cursor.fetchall()\n",
    "print(\"Selected records after update:\")\n",
    "for record in records_after_update:\n",
    "    print(record)\n",
    "\n",
    "# Delete a record\n",
    "delete_query = \"DELETE FROM students WHERE name = %s\"\n",
    "student_name_to_delete = \"Bob\"\n",
    "cursor.execute(delete_query, (student_name_to_delete,))\n",
    "connection.commit()\n",
    "print(f\"Record for {student_name_to_delete} deleted.\")\n",
    "\n",
    "# Select records after delete\n",
    "cursor.execute(select_query)\n",
    "records_after_delete = cursor.fetchall()\n",
    "print(\"Selected records after delete:\")\n",
    "for record in records_after_delete:\n",
    "    print(record)"
   ],
   "metadata": {
    "collapsed": false,
    "pycharm": {
     "name": "#%%\n"
    }
   }
  },
  {
   "cell_type": "code",
   "execution_count": 20,
   "outputs": [
    {
     "name": "stdout",
     "output_type": "stream",
     "text": [
      "Database connection closed.\n"
     ]
    }
   ],
   "source": [
    "# Close connection\n",
    "cursor.close()\n",
    "connection.close()\n",
    "print(\"Database connection closed.\")"
   ],
   "metadata": {
    "collapsed": false,
    "pycharm": {
     "name": "#%%\n"
    }
   }
  },
  {
   "cell_type": "code",
   "execution_count": 19,
   "outputs": [],
   "source": [],
   "metadata": {
    "collapsed": false,
    "pycharm": {
     "name": "#%%\n"
    }
   }
  },
  {
   "cell_type": "code",
   "execution_count": null,
   "outputs": [],
   "source": [],
   "metadata": {
    "collapsed": false,
    "pycharm": {
     "name": "#%%\n"
    }
   }
  }
 ],
 "metadata": {
  "kernelspec": {
   "name": "pycharm-b4f87f36",
   "language": "python",
   "display_name": "PyCharm (pythonProject)"
  },
  "language_info": {
   "codemirror_mode": {
    "name": "ipython",
    "version": 2
   },
   "file_extension": ".py",
   "mimetype": "text/x-python",
   "name": "python",
   "nbconvert_exporter": "python",
   "pygments_lexer": "ipython2",
   "version": "2.7.6"
  }
 },
 "nbformat": 4,
 "nbformat_minor": 0
}